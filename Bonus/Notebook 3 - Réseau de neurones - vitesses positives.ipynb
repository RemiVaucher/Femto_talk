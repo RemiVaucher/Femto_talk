{
 "cells": [
  {
   "cell_type": "code",
   "execution_count": 7,
   "id": "5d09cb27",
   "metadata": {},
   "outputs": [],
   "source": [
    "import tensorflow as tf\n",
    "import numpy as np\n",
    "import matplotlib.pyplot as plt"
   ]
  },
  {
   "cell_type": "markdown",
   "id": "31a2845e",
   "metadata": {},
   "source": [
    "# Création des données d'entrainement\n",
    "\n",
    "Pour créer nos données d'entrainement, nous avons besoin de calculer les fractions volumiques sur 3 mailles à l'aide de la fonction suivante (qui calcule la fraction volumique sur une maille):"
   ]
  },
  {
   "cell_type": "code",
   "execution_count": 8,
   "id": "d546f681",
   "metadata": {},
   "outputs": [
    {
     "name": "stdout",
     "output_type": "stream",
     "text": [
      "0.9\n"
     ]
    }
   ],
   "source": [
    "def compute_volfrac(X,g,side):\n",
    "    if side<0:\n",
    "        if g<np.min(X):\n",
    "            v_f=0\n",
    "        elif g>np.max(X):\n",
    "            v_f=1\n",
    "        else:\n",
    "            v_f=g-np.min(X)\n",
    "    else:\n",
    "        if g<np.min(X):\n",
    "            v_f=1\n",
    "        elif g>np.max(X):\n",
    "            v_f=0\n",
    "        else:\n",
    "            v_f=np.max(X)-g\n",
    "    return v_f\n",
    "                \n",
    "        \n",
    "    \n",
    "X=np.array([-0.5,0.5])\n",
    "g=0.4\n",
    "f_v=compute_volfrac(X,g,-1)\n",
    "print(f_v)"
   ]
  },
  {
   "cell_type": "markdown",
   "id": "226ed7ce",
   "metadata": {},
   "source": [
    "De même, nous devons calculer la quantité de masse exacte sortant par le coté droit de la maille centrale. Pour ceci, nous avons la fonction suivante:"
   ]
  },
  {
   "cell_type": "code",
   "execution_count": 9,
   "id": "287750f7",
   "metadata": {},
   "outputs": [
    {
     "name": "stdout",
     "output_type": "stream",
     "text": [
      "[0.   0.   0.28]\n"
     ]
    },
    {
     "data": {
      "text/plain": [
       "[<matplotlib.lines.Line2D at 0x1b368beea00>]"
      ]
     },
     "execution_count": 9,
     "metadata": {},
     "output_type": "execute_result"
    },
    {
     "data": {
      "image/png": "[encoded data removed]",
      "text/plain": [
       "<Figure size 432x288 with 1 Axes>"
      ]
     },
     "metadata": {
      "needs_background": "light"
     },
     "output_type": "display_data"
    }
   ],
   "source": [
    "def compute_exact_mass(X,g,side,b):\n",
    "    Q_m=0\n",
    "    if b>0:\n",
    "        if side<0:\n",
    "            if g+b<=X[1]:\n",
    "                return(Q_m)\n",
    "            elif (g+b>X[1])&(g<X[1]):\n",
    "                Q_m=g+b-X[1]\n",
    "                return(Q_m)\n",
    "            else:\n",
    "                Q_m=b\n",
    "                return(Q_m)\n",
    "        else:\n",
    "            if g+b<=X[1]:\n",
    "                Q_m=b\n",
    "                return(Q_m)\n",
    "            elif (g+b>X[1])&(g<X[1]):\n",
    "                Q_m=X[1]-g\n",
    "                return(Q_m)\n",
    "            else:\n",
    "                return(Q_m) \n",
    "    else:\n",
    "        if side<0:\n",
    "            if g<=X[1]:\n",
    "                Q_m=0\n",
    "                return(Q_m)\n",
    "            elif (g+b<X[1])&(g>X[1]):\n",
    "                Q_m=X[1]-(g+b)\n",
    "                return(Q_m)\n",
    "            else:\n",
    "                Q_m=-b\n",
    "                return(Q_m)\n",
    "        else:\n",
    "            if g+b>=X[1]:\n",
    "                Q_m=0\n",
    "                return(Q_m)\n",
    "            elif (g+b<X[1])&(g>X[1]):\n",
    "                Q_m=X[1]-g-b\n",
    "                return(Q_m)\n",
    "            else:\n",
    "                Q_m=-b\n",
    "                return(Q_m)\n",
    "        \n",
    "        \n",
    "g=2.21\n",
    "b=-0.99       \n",
    "side=1\n",
    "X=np.linspace(-0.5,1.5,3)\n",
    "X_frac=np.linspace(-1.5,0.5,3)\n",
    "E_m=np.array([])\n",
    "for i in X_frac:\n",
    "    Xtemp=np.array([i,i+1])\n",
    "    E_m=np.append(E_m,compute_exact_mass(Xtemp,g,side,b))\n",
    "print(E_m)\n",
    "plt.plot(X,E_m)"
   ]
  },
  {
   "cell_type": "markdown",
   "id": "a014d8f1",
   "metadata": {},
   "source": [
    "Pour finir, la fonction ci-dessous crée un set d'entrainement pour le réseau de neurones: en entrée, un tenseur contenant les fractions volumiques, en sortie un tenseur contenant les quantités de matières passant par les bords droits de chaque mailles.\n",
    "\n",
    "- Pour les gammas, nous avons fait en sorte que le modèle s'entraine aussi sur des sets où le gamma est extérieur. Nous les avons donc pris entre -2 et 2\n",
    "- Pour les betas, nous nous sommes contenter de les prendre sur $[0;1]$ dans un premier temps."
   ]
  },
  {
   "cell_type": "code",
   "execution_count": 64,
   "id": "d1aa6398",
   "metadata": {},
   "outputs": [],
   "source": [
    "\n",
    "def generate_training_data(ngammas,nbetas):\n",
    "    entree_train = np.zeros((ngammas*nbetas*2,4))\n",
    "    # J'initialise mes entrées: mes entrées sont les fractions volumiques\n",
    "    # calculées pour chaque betas, chaques gammas et chaque side\n",
    "    # il y aura donc ngammas*nbeta*2 vecteurs de tailles 3+1 (on stocke beta aussi)\n",
    "    label_train = np.zeros((ngammas*nbetas*2,3))\n",
    "    # J'initialise mes label: mes labels sont les quantités de matières\n",
    "    # exactes passant par chaque bord de maille: ngammas*nbetas*2 vecteurs \n",
    "    # de taille 3\n",
    "    G = np.random.uniform(-2,2,ngammas)\n",
    "    # je génère ngammas valeurs de gammas sorties sous la loi unif\n",
    "    B = np.random.uniform(0,1,nbetas)\n",
    "    # pareil pour beta\n",
    "    S=np.array([-1,1])\n",
    "    # Ca c'est mes sides (-1 ou 1)\n",
    "    X=np.array([[-1.5,-0.5],[-0.5,0.5],[0.5,1.5]])\n",
    "    # Ca c'est mes mailles\n",
    "    i=0\n",
    "    for g in G:\n",
    "        j=0\n",
    "        for b in B:\n",
    "            k=0\n",
    "            for s in S:\n",
    "                Vol=np.array([compute_volfrac(np.array([-1.5,-0.5]),g,s),\n",
    "                              compute_volfrac(np.array([-0.5,0.5]),g,s),\n",
    "                              compute_volfrac(np.array([0.5,1.5]),g,s)])\n",
    "                entree_train[i+j+k,:]=np.append(Vol,b)\n",
    "                #Je crée une matrice contenant mes sorties\n",
    "                Mass=np.array([compute_exact_mass(np.array([-1.5,-0.5]),g,s,b),\n",
    "                               compute_exact_mass(np.array([-0.5,0.5]),g,s,b),\n",
    "                               compute_exact_mass(np.array([0.5,1.5]),g,s,b)])\n",
    "                label_train[i+j+k,:]=Mass\n",
    "                #pareil pour mes labels\n",
    "                k=k+1\n",
    "            j=j+k\n",
    "        i=i+j\n",
    "    entree_tens = tf.constant(entree_train)\n",
    "    label_tens = tf.constant(label_train)\n",
    "    dataset=tf.data.Dataset.from_tensor_slices((entree_tens,label_tens))\n",
    "    # dataset=tf.data.Dataset.from_tensor_slices((entree_train,label_train))\n",
    "    # J'en fait direct un tenseur de tensorflow: j'ai galéré un peu à produire\n",
    "    # un tenseur qui passait dans les entrée du NN, mais maintenant ca colle!\n",
    "    return(dataset)\n",
    "\n"
   ]
  },
  {
   "cell_type": "code",
   "execution_count": 66,
   "id": "813f7879",
   "metadata": {},
   "outputs": [
    {
     "data": {
      "text/plain": [
       "<PrefetchDataset shapes: ((None, 4), (None, 3)), types: (tf.float64, tf.float64)>"
      ]
     },
     "execution_count": 66,
     "metadata": {},
     "output_type": "execute_result"
    }
   ],
   "source": [
    "batchsize = 100 #Je les regroupe par paquet de 5à, parce que si on veux\n",
    "#Un nombre de gammas/betas suffisant, les dim explose.\n",
    "ngammas = 300\n",
    "nbetas = 200\n",
    "data_set = generate_training_data(ngammas,nbetas)\n",
    "data_set = data_set.cache()\n",
    "data_set = data_set.shuffle(ngammas*nbetas*2)\n",
    "# Je mélange\n",
    "data_set = data_set.batch(batchsize).prefetch(tf.data.AUTOTUNE)\n",
    "# Je batch et prefetch (pour les fans de la cité de la peur:\n",
    "# \"Alors que revoilaaaa la sous prefeeeeetch\")\n",
    "data_set"
   ]
  },
  {
   "cell_type": "markdown",
   "id": "a364d58e",
   "metadata": {},
   "source": [
    "## Création et entrainement du réseau:"
   ]
  },
  {
   "cell_type": "code",
   "execution_count": 4,
   "id": "feceba68",
   "metadata": {},
   "outputs": [],
   "source": [
    "from tensorflow.keras.models import Sequential\n",
    "from tensorflow.keras.layers import Dense\n",
    "from tensorflow.keras.optimizers import Adam\n",
    "from tensorflow.keras.optimizers import SGD\n",
    "from tensorflow import keras"
   ]
  },
  {
   "cell_type": "markdown",
   "id": "d34085fc",
   "metadata": {},
   "source": [
    "Après quelques essais, ce modèle a été le plus efficace:\n",
    "- 2 couches intermédiaires\n",
    "- fonctions d'activation relu\n",
    "- Optimiseur Adam\n",
    "- loss et metric: MSE\n",
    "\n",
    "Le modèle a été entrainé sur une centaine d'epochs (le résultat ci dessous n'est pas le modèle final)."
   ]
  },
  {
   "cell_type": "code",
   "execution_count": 68,
   "id": "0a54d186",
   "metadata": {},
   "outputs": [
    {
     "name": "stdout",
     "output_type": "stream",
     "text": [
      "Model: \"sequential_1\"\n",
      "_________________________________________________________________\n",
      " Layer (type)                Output Shape              Param #   \n",
      "=================================================================\n",
      " dense_4 (Dense)             (None, 8)                 40        \n",
      "                                                                 \n",
      " dense_5 (Dense)             (None, 16)                144       \n",
      "                                                                 \n",
      " dense_6 (Dense)             (None, 8)                 136       \n",
      "                                                                 \n",
      " dense_7 (Dense)             (None, 3)                 27        \n",
      "                                                                 \n",
      "=================================================================\n",
      "Total params: 347\n",
      "Trainable params: 347\n",
      "Non-trainable params: 0\n",
      "_________________________________________________________________\n"
     ]
    }
   ],
   "source": [
    "#Ne pas compiler\n",
    "\n",
    "n=4\n",
    "m=20\n",
    "model = Sequential()\n",
    "model.add(Dense(units=2*n,input_dim=4,activation='relu'))\n",
    "# Première couche: entrée 4 (3FracVol+1Vit)\n",
    "model.add(Dense(units=4*n,activation='relu'))\n",
    "model.add(Dense(units=2*n,activation='relu'))\n",
    "\n",
    "model.add(Dense(units=3,activation='relu'))\n",
    "#Troisième couche: sortie 3 (3 masse exacte)\n",
    "model.summary()"
   ]
  },
  {
   "cell_type": "code",
   "execution_count": 69,
   "id": "0390bf20",
   "metadata": {},
   "outputs": [],
   "source": [
    "# Ne pas compiler\n",
    "\n",
    "model.compile(optimizer = Adam(learning_rate=1e-3),\n",
    "             loss = keras.losses.mean_squared_error,\n",
    "             metrics=[keras.metrics.mean_squared_error])\n",
    "# Dans le papier qui établi la méthode, ils optimisent avec\n",
    "# une descente de gradient stochastique, et la fonction loss\n",
    "# c'est MSE."
   ]
  },
  {
   "cell_type": "code",
   "execution_count": 70,
   "id": "2e4d4064",
   "metadata": {},
   "outputs": [
    {
     "name": "stdout",
     "output_type": "stream",
     "text": [
      "Epoch 1/100\n",
      "1200/1200 [==============================] - 1s 673us/step - loss: 0.0184 - mean_squared_error: 0.0184\n",
      "Epoch 2/100\n",
      "1200/1200 [==============================] - 1s 717us/step - loss: 3.2278e-04 - mean_squared_error: 3.2278e-04\n",
      "Epoch 3/100\n",
      "1200/1200 [==============================] - 1s 746us/step - loss: 1.5009e-04 - mean_squared_error: 1.5009e-04\n",
      "Epoch 4/100\n",
      "1200/1200 [==============================] - 1s 753us/step - loss: 7.6079e-05 - mean_squared_error: 7.6079e-05\n",
      "Epoch 5/100\n",
      "1200/1200 [==============================] - 1s 679us/step - loss: 4.9017e-05 - mean_squared_error: 4.9017e-05\n",
      "Epoch 6/100\n",
      "1200/1200 [==============================] - 1s 716us/step - loss: 2.6602e-05 - mean_squared_error: 2.6602e-05\n",
      "Epoch 7/100\n",
      "1200/1200 [==============================] - 1s 814us/step - loss: 1.4612e-05 - mean_squared_error: 1.4612e-05\n",
      "Epoch 8/100\n",
      "1200/1200 [==============================] - 1s 822us/step - loss: 1.0293e-05 - mean_squared_error: 1.0293e-05\n",
      "Epoch 9/100\n",
      "1200/1200 [==============================] - 1s 741us/step - loss: 7.7655e-06 - mean_squared_error: 7.7655e-06\n",
      "Epoch 10/100\n",
      "1200/1200 [==============================] - 1s 722us/step - loss: 6.9185e-06 - mean_squared_error: 6.9185e-06\n",
      "Epoch 11/100\n",
      "1200/1200 [==============================] - 1s 888us/step - loss: 5.8959e-06 - mean_squared_error: 5.8959e-06\n",
      "Epoch 12/100\n",
      "1200/1200 [==============================] - 1s 718us/step - loss: 4.8227e-06 - mean_squared_error: 4.8227e-06\n",
      "Epoch 13/100\n",
      "1200/1200 [==============================] - 1s 712us/step - loss: 4.2645e-06 - mean_squared_error: 4.2645e-06\n",
      "Epoch 14/100\n",
      "1200/1200 [==============================] - 1s 847us/step - loss: 4.1246e-06 - mean_squared_error: 4.1246e-06\n",
      "Epoch 15/100\n",
      "1200/1200 [==============================] - 1s 726us/step - loss: 3.5245e-06 - mean_squared_error: 3.5245e-06\n",
      "Epoch 16/100\n",
      "1200/1200 [==============================] - 1s 669us/step - loss: 3.3957e-06 - mean_squared_error: 3.3957e-06\n",
      "Epoch 17/100\n",
      "1200/1200 [==============================] - 1s 690us/step - loss: 3.2335e-06 - mean_squared_error: 3.2335e-06\n",
      "Epoch 18/100\n",
      "1200/1200 [==============================] - 1s 740us/step - loss: 3.0549e-06 - mean_squared_error: 3.0549e-06\n",
      "Epoch 19/100\n",
      "1034/1200 [========================>.....] - ETA: 0s - loss: 2.8570e-06 - mean_squared_error: 2.8570e-06"
     ]
    },
    {
     "ename": "KeyboardInterrupt",
     "evalue": "",
     "output_type": "error",
     "traceback": [
      "\u001b[1;31m---------------------------------------------------------------------------\u001b[0m",
      "\u001b[1;31mKeyboardInterrupt\u001b[0m                         Traceback (most recent call last)",
      "\u001b[1;32m<ipython-input-70-9657e3713da9>\u001b[0m in \u001b[0;36m<module>\u001b[1;34m\u001b[0m\n\u001b[0;32m      1\u001b[0m \u001b[0mepoch\u001b[0m \u001b[1;33m=\u001b[0m \u001b[1;36m100\u001b[0m\u001b[1;33m\u001b[0m\u001b[1;33m\u001b[0m\u001b[0m\n\u001b[1;32m----> 2\u001b[1;33m \u001b[0mmodel\u001b[0m\u001b[1;33m.\u001b[0m\u001b[0mfit\u001b[0m\u001b[1;33m(\u001b[0m\u001b[0mdata_set\u001b[0m\u001b[1;33m,\u001b[0m \u001b[0mepochs\u001b[0m \u001b[1;33m=\u001b[0m \u001b[0mepoch\u001b[0m\u001b[1;33m,\u001b[0m \u001b[0mverbose\u001b[0m\u001b[1;33m=\u001b[0m\u001b[1;36m1\u001b[0m\u001b[1;33m)\u001b[0m\u001b[1;33m\u001b[0m\u001b[1;33m\u001b[0m\u001b[0m\n\u001b[0m",
      "\u001b[1;32m~\\Anaconda3\\lib\\site-packages\\keras\\utils\\traceback_utils.py\u001b[0m in \u001b[0;36merror_handler\u001b[1;34m(*args, **kwargs)\u001b[0m\n\u001b[0;32m     62\u001b[0m     \u001b[0mfiltered_tb\u001b[0m \u001b[1;33m=\u001b[0m \u001b[1;32mNone\u001b[0m\u001b[1;33m\u001b[0m\u001b[1;33m\u001b[0m\u001b[0m\n\u001b[0;32m     63\u001b[0m     \u001b[1;32mtry\u001b[0m\u001b[1;33m:\u001b[0m\u001b[1;33m\u001b[0m\u001b[1;33m\u001b[0m\u001b[0m\n\u001b[1;32m---> 64\u001b[1;33m       \u001b[1;32mreturn\u001b[0m \u001b[0mfn\u001b[0m\u001b[1;33m(\u001b[0m\u001b[1;33m*\u001b[0m\u001b[0margs\u001b[0m\u001b[1;33m,\u001b[0m \u001b[1;33m**\u001b[0m\u001b[0mkwargs\u001b[0m\u001b[1;33m)\u001b[0m\u001b[1;33m\u001b[0m\u001b[1;33m\u001b[0m\u001b[0m\n\u001b[0m\u001b[0;32m     65\u001b[0m     \u001b[1;32mexcept\u001b[0m \u001b[0mException\u001b[0m \u001b[1;32mas\u001b[0m \u001b[0me\u001b[0m\u001b[1;33m:\u001b[0m  \u001b[1;31m# pylint: disable=broad-except\u001b[0m\u001b[1;33m\u001b[0m\u001b[1;33m\u001b[0m\u001b[0m\n\u001b[0;32m     66\u001b[0m       \u001b[0mfiltered_tb\u001b[0m \u001b[1;33m=\u001b[0m \u001b[0m_process_traceback_frames\u001b[0m\u001b[1;33m(\u001b[0m\u001b[0me\u001b[0m\u001b[1;33m.\u001b[0m\u001b[0m__traceback__\u001b[0m\u001b[1;33m)\u001b[0m\u001b[1;33m\u001b[0m\u001b[1;33m\u001b[0m\u001b[0m\n",
      "\u001b[1;32m~\\Anaconda3\\lib\\site-packages\\keras\\engine\\training.py\u001b[0m in \u001b[0;36mfit\u001b[1;34m(self, x, y, batch_size, epochs, verbose, callbacks, validation_split, validation_data, shuffle, class_weight, sample_weight, initial_epoch, steps_per_epoch, validation_steps, validation_batch_size, validation_freq, max_queue_size, workers, use_multiprocessing)\u001b[0m\n\u001b[0;32m   1214\u001b[0m                 _r=1):\n\u001b[0;32m   1215\u001b[0m               \u001b[0mcallbacks\u001b[0m\u001b[1;33m.\u001b[0m\u001b[0mon_train_batch_begin\u001b[0m\u001b[1;33m(\u001b[0m\u001b[0mstep\u001b[0m\u001b[1;33m)\u001b[0m\u001b[1;33m\u001b[0m\u001b[1;33m\u001b[0m\u001b[0m\n\u001b[1;32m-> 1216\u001b[1;33m               \u001b[0mtmp_logs\u001b[0m \u001b[1;33m=\u001b[0m \u001b[0mself\u001b[0m\u001b[1;33m.\u001b[0m\u001b[0mtrain_function\u001b[0m\u001b[1;33m(\u001b[0m\u001b[0miterator\u001b[0m\u001b[1;33m)\u001b[0m\u001b[1;33m\u001b[0m\u001b[1;33m\u001b[0m\u001b[0m\n\u001b[0m\u001b[0;32m   1217\u001b[0m               \u001b[1;32mif\u001b[0m \u001b[0mdata_handler\u001b[0m\u001b[1;33m.\u001b[0m\u001b[0mshould_sync\u001b[0m\u001b[1;33m:\u001b[0m\u001b[1;33m\u001b[0m\u001b[1;33m\u001b[0m\u001b[0m\n\u001b[0;32m   1218\u001b[0m                 \u001b[0mcontext\u001b[0m\u001b[1;33m.\u001b[0m\u001b[0masync_wait\u001b[0m\u001b[1;33m(\u001b[0m\u001b[1;33m)\u001b[0m\u001b[1;33m\u001b[0m\u001b[1;33m\u001b[0m\u001b[0m\n",
      "\u001b[1;32m~\\Anaconda3\\lib\\site-packages\\tensorflow\\python\\util\\traceback_utils.py\u001b[0m in \u001b[0;36merror_handler\u001b[1;34m(*args, **kwargs)\u001b[0m\n\u001b[0;32m    148\u001b[0m     \u001b[0mfiltered_tb\u001b[0m \u001b[1;33m=\u001b[0m \u001b[1;32mNone\u001b[0m\u001b[1;33m\u001b[0m\u001b[1;33m\u001b[0m\u001b[0m\n\u001b[0;32m    149\u001b[0m     \u001b[1;32mtry\u001b[0m\u001b[1;33m:\u001b[0m\u001b[1;33m\u001b[0m\u001b[1;33m\u001b[0m\u001b[0m\n\u001b[1;32m--> 150\u001b[1;33m       \u001b[1;32mreturn\u001b[0m \u001b[0mfn\u001b[0m\u001b[1;33m(\u001b[0m\u001b[1;33m*\u001b[0m\u001b[0margs\u001b[0m\u001b[1;33m,\u001b[0m \u001b[1;33m**\u001b[0m\u001b[0mkwargs\u001b[0m\u001b[1;33m)\u001b[0m\u001b[1;33m\u001b[0m\u001b[1;33m\u001b[0m\u001b[0m\n\u001b[0m\u001b[0;32m    151\u001b[0m     \u001b[1;32mexcept\u001b[0m \u001b[0mException\u001b[0m \u001b[1;32mas\u001b[0m \u001b[0me\u001b[0m\u001b[1;33m:\u001b[0m\u001b[1;33m\u001b[0m\u001b[1;33m\u001b[0m\u001b[0m\n\u001b[0;32m    152\u001b[0m       \u001b[0mfiltered_tb\u001b[0m \u001b[1;33m=\u001b[0m \u001b[0m_process_traceback_frames\u001b[0m\u001b[1;33m(\u001b[0m\u001b[0me\u001b[0m\u001b[1;33m.\u001b[0m\u001b[0m__traceback__\u001b[0m\u001b[1;33m)\u001b[0m\u001b[1;33m\u001b[0m\u001b[1;33m\u001b[0m\u001b[0m\n",
      "\u001b[1;32m~\\Anaconda3\\lib\\site-packages\\tensorflow\\python\\eager\\def_function.py\u001b[0m in \u001b[0;36m__call__\u001b[1;34m(self, *args, **kwds)\u001b[0m\n\u001b[0;32m    908\u001b[0m \u001b[1;33m\u001b[0m\u001b[0m\n\u001b[0;32m    909\u001b[0m       \u001b[1;32mwith\u001b[0m \u001b[0mOptionalXlaContext\u001b[0m\u001b[1;33m(\u001b[0m\u001b[0mself\u001b[0m\u001b[1;33m.\u001b[0m\u001b[0m_jit_compile\u001b[0m\u001b[1;33m)\u001b[0m\u001b[1;33m:\u001b[0m\u001b[1;33m\u001b[0m\u001b[1;33m\u001b[0m\u001b[0m\n\u001b[1;32m--> 910\u001b[1;33m         \u001b[0mresult\u001b[0m \u001b[1;33m=\u001b[0m \u001b[0mself\u001b[0m\u001b[1;33m.\u001b[0m\u001b[0m_call\u001b[0m\u001b[1;33m(\u001b[0m\u001b[1;33m*\u001b[0m\u001b[0margs\u001b[0m\u001b[1;33m,\u001b[0m \u001b[1;33m**\u001b[0m\u001b[0mkwds\u001b[0m\u001b[1;33m)\u001b[0m\u001b[1;33m\u001b[0m\u001b[1;33m\u001b[0m\u001b[0m\n\u001b[0m\u001b[0;32m    911\u001b[0m \u001b[1;33m\u001b[0m\u001b[0m\n\u001b[0;32m    912\u001b[0m       \u001b[0mnew_tracing_count\u001b[0m \u001b[1;33m=\u001b[0m \u001b[0mself\u001b[0m\u001b[1;33m.\u001b[0m\u001b[0mexperimental_get_tracing_count\u001b[0m\u001b[1;33m(\u001b[0m\u001b[1;33m)\u001b[0m\u001b[1;33m\u001b[0m\u001b[1;33m\u001b[0m\u001b[0m\n",
      "\u001b[1;32m~\\Anaconda3\\lib\\site-packages\\tensorflow\\python\\eager\\def_function.py\u001b[0m in \u001b[0;36m_call\u001b[1;34m(self, *args, **kwds)\u001b[0m\n\u001b[0;32m    940\u001b[0m       \u001b[1;31m# In this case we have created variables on the first call, so we run the\u001b[0m\u001b[1;33m\u001b[0m\u001b[1;33m\u001b[0m\u001b[1;33m\u001b[0m\u001b[0m\n\u001b[0;32m    941\u001b[0m       \u001b[1;31m# defunned version which is guaranteed to never create variables.\u001b[0m\u001b[1;33m\u001b[0m\u001b[1;33m\u001b[0m\u001b[1;33m\u001b[0m\u001b[0m\n\u001b[1;32m--> 942\u001b[1;33m       \u001b[1;32mreturn\u001b[0m \u001b[0mself\u001b[0m\u001b[1;33m.\u001b[0m\u001b[0m_stateless_fn\u001b[0m\u001b[1;33m(\u001b[0m\u001b[1;33m*\u001b[0m\u001b[0margs\u001b[0m\u001b[1;33m,\u001b[0m \u001b[1;33m**\u001b[0m\u001b[0mkwds\u001b[0m\u001b[1;33m)\u001b[0m  \u001b[1;31m# pylint: disable=not-callable\u001b[0m\u001b[1;33m\u001b[0m\u001b[1;33m\u001b[0m\u001b[0m\n\u001b[0m\u001b[0;32m    943\u001b[0m     \u001b[1;32melif\u001b[0m \u001b[0mself\u001b[0m\u001b[1;33m.\u001b[0m\u001b[0m_stateful_fn\u001b[0m \u001b[1;32mis\u001b[0m \u001b[1;32mnot\u001b[0m \u001b[1;32mNone\u001b[0m\u001b[1;33m:\u001b[0m\u001b[1;33m\u001b[0m\u001b[1;33m\u001b[0m\u001b[0m\n\u001b[0;32m    944\u001b[0m       \u001b[1;31m# Release the lock early so that multiple threads can perform the call\u001b[0m\u001b[1;33m\u001b[0m\u001b[1;33m\u001b[0m\u001b[1;33m\u001b[0m\u001b[0m\n",
      "\u001b[1;32m~\\Anaconda3\\lib\\site-packages\\tensorflow\\python\\eager\\function.py\u001b[0m in \u001b[0;36m__call__\u001b[1;34m(self, *args, **kwargs)\u001b[0m\n\u001b[0;32m   3128\u001b[0m       (graph_function,\n\u001b[0;32m   3129\u001b[0m        filtered_flat_args) = self._maybe_define_function(args, kwargs)\n\u001b[1;32m-> 3130\u001b[1;33m     return graph_function._call_flat(\n\u001b[0m\u001b[0;32m   3131\u001b[0m         filtered_flat_args, captured_inputs=graph_function.captured_inputs)  # pylint: disable=protected-access\n\u001b[0;32m   3132\u001b[0m \u001b[1;33m\u001b[0m\u001b[0m\n",
      "\u001b[1;32m~\\Anaconda3\\lib\\site-packages\\tensorflow\\python\\eager\\function.py\u001b[0m in \u001b[0;36m_call_flat\u001b[1;34m(self, args, captured_inputs, cancellation_manager)\u001b[0m\n\u001b[0;32m   1957\u001b[0m         and executing_eagerly):\n\u001b[0;32m   1958\u001b[0m       \u001b[1;31m# No tape is watching; skip to running the function.\u001b[0m\u001b[1;33m\u001b[0m\u001b[1;33m\u001b[0m\u001b[1;33m\u001b[0m\u001b[0m\n\u001b[1;32m-> 1959\u001b[1;33m       return self._build_call_outputs(self._inference_function.call(\n\u001b[0m\u001b[0;32m   1960\u001b[0m           ctx, args, cancellation_manager=cancellation_manager))\n\u001b[0;32m   1961\u001b[0m     forward_backward = self._select_forward_and_backward_functions(\n",
      "\u001b[1;32m~\\Anaconda3\\lib\\site-packages\\tensorflow\\python\\eager\\function.py\u001b[0m in \u001b[0;36mcall\u001b[1;34m(self, ctx, args, cancellation_manager)\u001b[0m\n\u001b[0;32m    596\u001b[0m       \u001b[1;32mwith\u001b[0m \u001b[0m_InterpolateFunctionError\u001b[0m\u001b[1;33m(\u001b[0m\u001b[0mself\u001b[0m\u001b[1;33m)\u001b[0m\u001b[1;33m:\u001b[0m\u001b[1;33m\u001b[0m\u001b[1;33m\u001b[0m\u001b[0m\n\u001b[0;32m    597\u001b[0m         \u001b[1;32mif\u001b[0m \u001b[0mcancellation_manager\u001b[0m \u001b[1;32mis\u001b[0m \u001b[1;32mNone\u001b[0m\u001b[1;33m:\u001b[0m\u001b[1;33m\u001b[0m\u001b[1;33m\u001b[0m\u001b[0m\n\u001b[1;32m--> 598\u001b[1;33m           outputs = execute.execute(\n\u001b[0m\u001b[0;32m    599\u001b[0m               \u001b[0mstr\u001b[0m\u001b[1;33m(\u001b[0m\u001b[0mself\u001b[0m\u001b[1;33m.\u001b[0m\u001b[0msignature\u001b[0m\u001b[1;33m.\u001b[0m\u001b[0mname\u001b[0m\u001b[1;33m)\u001b[0m\u001b[1;33m,\u001b[0m\u001b[1;33m\u001b[0m\u001b[1;33m\u001b[0m\u001b[0m\n\u001b[0;32m    600\u001b[0m               \u001b[0mnum_outputs\u001b[0m\u001b[1;33m=\u001b[0m\u001b[0mself\u001b[0m\u001b[1;33m.\u001b[0m\u001b[0m_num_outputs\u001b[0m\u001b[1;33m,\u001b[0m\u001b[1;33m\u001b[0m\u001b[1;33m\u001b[0m\u001b[0m\n",
      "\u001b[1;32m~\\Anaconda3\\lib\\site-packages\\tensorflow\\python\\eager\\execute.py\u001b[0m in \u001b[0;36mquick_execute\u001b[1;34m(op_name, num_outputs, inputs, attrs, ctx, name)\u001b[0m\n\u001b[0;32m     56\u001b[0m   \u001b[1;32mtry\u001b[0m\u001b[1;33m:\u001b[0m\u001b[1;33m\u001b[0m\u001b[1;33m\u001b[0m\u001b[0m\n\u001b[0;32m     57\u001b[0m     \u001b[0mctx\u001b[0m\u001b[1;33m.\u001b[0m\u001b[0mensure_initialized\u001b[0m\u001b[1;33m(\u001b[0m\u001b[1;33m)\u001b[0m\u001b[1;33m\u001b[0m\u001b[1;33m\u001b[0m\u001b[0m\n\u001b[1;32m---> 58\u001b[1;33m     tensors = pywrap_tfe.TFE_Py_Execute(ctx._handle, device_name, op_name,\n\u001b[0m\u001b[0;32m     59\u001b[0m                                         inputs, attrs, num_outputs)\n\u001b[0;32m     60\u001b[0m   \u001b[1;32mexcept\u001b[0m \u001b[0mcore\u001b[0m\u001b[1;33m.\u001b[0m\u001b[0m_NotOkStatusException\u001b[0m \u001b[1;32mas\u001b[0m \u001b[0me\u001b[0m\u001b[1;33m:\u001b[0m\u001b[1;33m\u001b[0m\u001b[1;33m\u001b[0m\u001b[0m\n",
      "\u001b[1;31mKeyboardInterrupt\u001b[0m: "
     ]
    }
   ],
   "source": [
    "# Ne pas compiler\n",
    "epoch = 100\n",
    "model.fit(data_set, epochs = epoch, verbose=1)"
   ]
  },
  {
   "cell_type": "code",
   "execution_count": 5,
   "id": "b6be1ab0",
   "metadata": {},
   "outputs": [],
   "source": [
    "#Compiler\n",
    "\n",
    "model=keras.models.load_model('model2')"
   ]
  },
  {
   "cell_type": "code",
   "execution_count": 15,
   "id": "20bbe4d0",
   "metadata": {},
   "outputs": [
    {
     "name": "stdout",
     "output_type": "stream",
     "text": [
      "0.2589126461054909\n",
      "-1\n",
      "63\n"
     ]
    },
    {
     "data": {
      "image/png": "[encoded data removed]",
      "text/plain": [
       "<Figure size 432x288 with 1 Axes>"
      ]
     },
     "metadata": {},
     "output_type": "display_data"
    }
   ],
   "source": [
    "X = np.array([[-1.5,-0.5],[-0.5,0.5],[0.5,1.5]])\n",
    "g = np.random.uniform(low=-2,high=2,size=1)[0]\n",
    "B = np.linspace(0,1,21)\n",
    "print(g)\n",
    "side = (-1)**(np.random.randint(0,2))\n",
    "print(side)\n",
    "m_d_tot=np.array([])\n",
    "mass_pred_tot=np.array([[]])\n",
    "for b in B:\n",
    "    f_v=np.array([])\n",
    "    m_d=np.array([])\n",
    "    mass_pred=np.array([])\n",
    "    for x in X:\n",
    "        f_v_temp = compute_volfrac(x,g,side)\n",
    "        #mass_pred = np.append(mass_pred,model.predict(f_v_temp1.reshape(1,2)))\n",
    "        f_v = np.append(f_v,f_v_temp)\n",
    "        m_d = np.append(m_d,compute_exact_mass(x,g,side,b))\n",
    "    mass_pred=model.predict(np.append(f_v,b).reshape(1,4))\n",
    "    \n",
    "    m_d_tot = np.append(m_d_tot,m_d)\n",
    "    mass_pred_tot = np.append(mass_pred_tot,[[mass_pred]])\n",
    "\n",
    "print(len(mass_pred_tot))\n",
    "#print(m_d_tot)\n",
    "# Je créé ma sortie exacte\n",
    "#fig=plt.figure(figsize=(5,5))\n",
    "#ax=fig.add_subplot(111)\n",
    "#ax.scatter(Xplot,m_d,c='b',marker=\"o\")\n",
    "#ax.scatter(Xplot,mass_pred,c='r',marker=\"+\")\n",
    "fig = plt.figure()\n",
    "fig.set_facecolor('white')\n",
    "plt.plot(B, mass_pred_tot[0::3], color='blue', label='Prédiction')\n",
    "plt.plot(B,m_d_tot[0::3] , color='red', label='Théorique')\n",
    "plt.legend()\n",
    "plt.show()\n",
    "#Et... certains paramètre ont un comportement bizarre quand la vitesse est proche de 1"
   ]
  },
  {
   "cell_type": "code",
   "execution_count": 91,
   "id": "ff5689d7",
   "metadata": {},
   "outputs": [
    {
     "name": "stdout",
     "output_type": "stream",
     "text": [
      "INFO:tensorflow:Assets written to: model2\\assets\n"
     ]
    }
   ],
   "source": [
    "model.save('model2')"
   ]
  }
 ],
 "metadata": {
  "kernelspec": {
   "display_name": "Python 3",
   "language": "python",
   "name": "python3"
  },
  "language_info": {
   "codemirror_mode": {
    "name": "ipython",
    "version": 3
   },
   "file_extension": ".py",
   "mimetype": "text/x-python",
   "name": "python",
   "nbconvert_exporter": "python",
   "pygments_lexer": "ipython3",
   "version": "3.8.8"
  }
 },
 "nbformat": 4,
 "nbformat_minor": 5
}
